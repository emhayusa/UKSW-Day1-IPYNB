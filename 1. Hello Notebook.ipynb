{
 "cells": [
  {
   "cell_type": "markdown",
   "id": "8b0b773a",
   "metadata": {},
   "source": [
    "# import tensorflow"
   ]
  },
  {
   "cell_type": "markdown",
   "id": "0fb6f335",
   "metadata": {},
   "source": [
    "**bold text**"
   ]
  },
  {
   "cell_type": "markdown",
   "id": "6b39cc85",
   "metadata": {},
   "source": [
    "_italicized text_"
   ]
  },
  {
   "cell_type": "code",
   "execution_count": 1,
   "id": "f931c655",
   "metadata": {},
   "outputs": [
    {
     "data": {
      "text/html": [
       "<marquee style='width: 30%; color: blue;'><b>Whee!</b></marquee>\n"
      ],
      "text/plain": [
       "<IPython.core.display.HTML object>"
      ]
     },
     "metadata": {},
     "output_type": "display_data"
    }
   ],
   "source": [
    "%%html\n",
    "<marquee style='width: 30%; color: blue;'><b>Whee!</b></marquee>"
   ]
  },
  {
   "cell_type": "code",
   "execution_count": 2,
   "id": "2a6e6294",
   "metadata": {},
   "outputs": [
    {
     "name": "stdout",
     "output_type": "stream",
     "text": [
      " Volume in drive D has no label.\n",
      " Volume Serial Number is CCD1-CD20\n",
      "\n",
      " Directory of D:\\notebook\n",
      "\n",
      "08/12/2021  13:46    <DIR>          .\n",
      "08/12/2021  13:46    <DIR>          ..\n",
      "08/12/2021  13:46    <DIR>          .ipynb_checkpoints\n",
      "08/12/2021  13:34               949 1. Hello Notebook.ipynb\n",
      "08/12/2021  13:40               757 2. Tes Tensorflow.ipynb\n",
      "08/12/2021  13:28    <DIR>          image\n",
      "               2 File(s)          1.706 bytes\n",
      "               4 Dir(s)  34.265.468.928 bytes free\n"
     ]
    }
   ],
   "source": [
    "!dir"
   ]
  },
  {
   "cell_type": "code",
   "execution_count": null,
   "id": "4e92e26e",
   "metadata": {},
   "outputs": [],
   "source": []
  }
 ],
 "metadata": {
  "kernelspec": {
   "display_name": "Python 3 (ipykernel)",
   "language": "python",
   "name": "python3"
  },
  "language_info": {
   "codemirror_mode": {
    "name": "ipython",
    "version": 3
   },
   "file_extension": ".py",
   "mimetype": "text/x-python",
   "name": "python",
   "nbconvert_exporter": "python",
   "pygments_lexer": "ipython3",
   "version": "3.9.7"
  }
 },
 "nbformat": 4,
 "nbformat_minor": 5
}
