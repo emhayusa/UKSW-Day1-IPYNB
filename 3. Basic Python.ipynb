{
 "cells": [
  {
   "cell_type": "code",
   "execution_count": 1,
   "id": "3c20a409",
   "metadata": {},
   "outputs": [
    {
     "name": "stdout",
     "output_type": "stream",
     "text": [
      "Python 3.9.7\n"
     ]
    }
   ],
   "source": [
    "!python --version"
   ]
  },
  {
   "cell_type": "code",
   "execution_count": 2,
   "id": "838a37cd",
   "metadata": {},
   "outputs": [
    {
     "name": "stdout",
     "output_type": "stream",
     "text": [
      "Hello World\n"
     ]
    }
   ],
   "source": [
    "print(\"Hello World\")"
   ]
  },
  {
   "cell_type": "markdown",
   "id": "b3e5783a",
   "metadata": {},
   "source": [
    "## Variable"
   ]
  },
  {
   "cell_type": "code",
   "execution_count": 3,
   "id": "4be77c0c",
   "metadata": {},
   "outputs": [],
   "source": [
    "name = 'Kota Salatiga'"
   ]
  },
  {
   "cell_type": "code",
   "execution_count": 4,
   "id": "686e0684",
   "metadata": {},
   "outputs": [
    {
     "data": {
      "text/plain": [
       "'Kota Salatiga'"
      ]
     },
     "execution_count": 4,
     "metadata": {},
     "output_type": "execute_result"
    }
   ],
   "source": [
    "name"
   ]
  },
  {
   "cell_type": "code",
   "execution_count": 5,
   "id": "7df26e7e",
   "metadata": {},
   "outputs": [
    {
     "data": {
      "text/plain": [
       "str"
      ]
     },
     "execution_count": 5,
     "metadata": {},
     "output_type": "execute_result"
    }
   ],
   "source": [
    "type(name)"
   ]
  },
  {
   "cell_type": "code",
   "execution_count": 6,
   "id": "3ffaa7b8",
   "metadata": {},
   "outputs": [],
   "source": [
    "is_approved = False"
   ]
  },
  {
   "cell_type": "code",
   "execution_count": 7,
   "id": "1ef7e1a7",
   "metadata": {},
   "outputs": [
    {
     "data": {
      "text/plain": [
       "False"
      ]
     },
     "execution_count": 7,
     "metadata": {},
     "output_type": "execute_result"
    }
   ],
   "source": [
    "is_approved"
   ]
  },
  {
   "cell_type": "code",
   "execution_count": 8,
   "id": "a52094ec",
   "metadata": {},
   "outputs": [
    {
     "data": {
      "text/plain": [
       "bool"
      ]
     },
     "execution_count": 8,
     "metadata": {},
     "output_type": "execute_result"
    }
   ],
   "source": [
    "type(is_approved)"
   ]
  },
  {
   "cell_type": "code",
   "execution_count": 9,
   "id": "083160e2",
   "metadata": {},
   "outputs": [],
   "source": [
    "x = 1\n",
    "y = 1.5"
   ]
  },
  {
   "cell_type": "code",
   "execution_count": 11,
   "id": "eb425533",
   "metadata": {},
   "outputs": [
    {
     "data": {
      "text/plain": [
       "(int, float)"
      ]
     },
     "execution_count": 11,
     "metadata": {},
     "output_type": "execute_result"
    }
   ],
   "source": [
    "type(x), type(y)"
   ]
  },
  {
   "cell_type": "code",
   "execution_count": 12,
   "id": "cb3e484a",
   "metadata": {},
   "outputs": [
    {
     "name": "stdout",
     "output_type": "stream",
     "text": [
      "Saya sekarang berada di  Kota Salatiga\n"
     ]
    }
   ],
   "source": [
    "print(\"Saya sekarang berada di \", name)"
   ]
  },
  {
   "cell_type": "markdown",
   "id": "4ea56b27",
   "metadata": {},
   "source": [
    "# Data Structures"
   ]
  },
  {
   "cell_type": "markdown",
   "id": "7bda27ff",
   "metadata": {},
   "source": [
    "## List"
   ]
  },
  {
   "cell_type": "code",
   "execution_count": 13,
   "id": "373d3f54",
   "metadata": {},
   "outputs": [],
   "source": [
    "employee = list()"
   ]
  },
  {
   "cell_type": "code",
   "execution_count": 14,
   "id": "e7a46c0e",
   "metadata": {},
   "outputs": [],
   "source": [
    "employ=[]"
   ]
  },
  {
   "cell_type": "code",
   "execution_count": 15,
   "id": "a543e232",
   "metadata": {},
   "outputs": [],
   "source": [
    "employee = ['Kota', 'Salatiga', 'Hati', 'Beriman']"
   ]
  },
  {
   "cell_type": "code",
   "execution_count": 16,
   "id": "80ce6486",
   "metadata": {},
   "outputs": [
    {
     "data": {
      "text/plain": [
       "['Kota', 'Salatiga', 'Hati', 'Beriman']"
      ]
     },
     "execution_count": 16,
     "metadata": {},
     "output_type": "execute_result"
    }
   ],
   "source": [
    "employee"
   ]
  },
  {
   "cell_type": "markdown",
   "id": "15cc127d",
   "metadata": {},
   "source": [
    "### Slicing"
   ]
  },
  {
   "cell_type": "code",
   "execution_count": 17,
   "id": "94d30b7c",
   "metadata": {},
   "outputs": [
    {
     "data": {
      "text/plain": [
       "'Kota'"
      ]
     },
     "execution_count": 17,
     "metadata": {},
     "output_type": "execute_result"
    }
   ],
   "source": [
    "employee[0]"
   ]
  },
  {
   "cell_type": "code",
   "execution_count": 18,
   "id": "2850aecc",
   "metadata": {},
   "outputs": [
    {
     "data": {
      "text/plain": [
       "['Kota', 'Salatiga']"
      ]
     },
     "execution_count": 18,
     "metadata": {},
     "output_type": "execute_result"
    }
   ],
   "source": [
    "employee[0:2]"
   ]
  },
  {
   "cell_type": "code",
   "execution_count": 19,
   "id": "efae8aa6",
   "metadata": {},
   "outputs": [
    {
     "data": {
      "text/plain": [
       "['Hati', 'Beriman']"
      ]
     },
     "execution_count": 19,
     "metadata": {},
     "output_type": "execute_result"
    }
   ],
   "source": [
    "employee[2:]"
   ]
  },
  {
   "cell_type": "code",
   "execution_count": 20,
   "id": "8889a14c",
   "metadata": {},
   "outputs": [
    {
     "data": {
      "text/plain": [
       "4"
      ]
     },
     "execution_count": 20,
     "metadata": {},
     "output_type": "execute_result"
    }
   ],
   "source": [
    "len(employee)"
   ]
  },
  {
   "cell_type": "code",
   "execution_count": 21,
   "id": "90642844",
   "metadata": {},
   "outputs": [],
   "source": [
    "employee.append(\"Slogan\")"
   ]
  },
  {
   "cell_type": "code",
   "execution_count": 22,
   "id": "d05a2404",
   "metadata": {},
   "outputs": [
    {
     "data": {
      "text/plain": [
       "['Kota', 'Salatiga', 'Hati', 'Beriman', 'Slogan']"
      ]
     },
     "execution_count": 22,
     "metadata": {},
     "output_type": "execute_result"
    }
   ],
   "source": [
    "employee"
   ]
  },
  {
   "cell_type": "code",
   "execution_count": 23,
   "id": "50f77990",
   "metadata": {},
   "outputs": [
    {
     "data": {
      "text/plain": [
       "'Slogan'"
      ]
     },
     "execution_count": 23,
     "metadata": {},
     "output_type": "execute_result"
    }
   ],
   "source": [
    "employee.pop()"
   ]
  },
  {
   "cell_type": "code",
   "execution_count": 24,
   "id": "b4f0cc93",
   "metadata": {},
   "outputs": [
    {
     "data": {
      "text/plain": [
       "['Kota', 'Salatiga', 'Hati', 'Beriman']"
      ]
     },
     "execution_count": 24,
     "metadata": {},
     "output_type": "execute_result"
    }
   ],
   "source": [
    "employee"
   ]
  },
  {
   "cell_type": "markdown",
   "id": "9bbe01f6",
   "metadata": {},
   "source": [
    "shift + tab untuk melihat deskripsi suatu fungsi"
   ]
  },
  {
   "cell_type": "code",
   "execution_count": 25,
   "id": "58287da5",
   "metadata": {},
   "outputs": [],
   "source": [
    "employee.sort()"
   ]
  },
  {
   "cell_type": "code",
   "execution_count": 26,
   "id": "8a15b989",
   "metadata": {},
   "outputs": [
    {
     "data": {
      "text/plain": [
       "['Beriman', 'Hati', 'Kota', 'Salatiga']"
      ]
     },
     "execution_count": 26,
     "metadata": {},
     "output_type": "execute_result"
    }
   ],
   "source": [
    "employee"
   ]
  },
  {
   "cell_type": "markdown",
   "id": "ed13d975",
   "metadata": {},
   "source": [
    "## Iterating List"
   ]
  },
  {
   "cell_type": "code",
   "execution_count": 27,
   "id": "6773565a",
   "metadata": {},
   "outputs": [
    {
     "name": "stdout",
     "output_type": "stream",
     "text": [
      "Beriman\n",
      "Hati\n",
      "Kota\n",
      "Salatiga\n"
     ]
    }
   ],
   "source": [
    "for item in employee:\n",
    "    print(item)"
   ]
  },
  {
   "cell_type": "code",
   "execution_count": 32,
   "id": "5d3665e5",
   "metadata": {},
   "outputs": [],
   "source": [
    "#for x in range(0,5):\n",
    "#    print(x)"
   ]
  },
  {
   "cell_type": "code",
   "execution_count": 33,
   "id": "628fe31d",
   "metadata": {},
   "outputs": [
    {
     "name": "stdout",
     "output_type": "stream",
     "text": [
      "Ada\n"
     ]
    }
   ],
   "source": [
    "for item in employee:\n",
    "    if item == \"Kota\":\n",
    "        print('Ada')\n",
    "    else:\n",
    "        pass"
   ]
  },
  {
   "cell_type": "code",
   "execution_count": 35,
   "id": "b505d1b8",
   "metadata": {},
   "outputs": [
    {
     "name": "stdout",
     "output_type": "stream",
     "text": [
      "Ada di index ke:  2\n"
     ]
    }
   ],
   "source": [
    "for index, item in enumerate(employee):\n",
    "    #print(index, item)\n",
    "    if item == \"Kota\":\n",
    "        print('Ada di index ke: ', index)\n",
    "    else:\n",
    "        pass"
   ]
  },
  {
   "cell_type": "code",
   "execution_count": 36,
   "id": "8b854539",
   "metadata": {},
   "outputs": [],
   "source": [
    "koord = [[0,1], [2,3]]"
   ]
  },
  {
   "cell_type": "code",
   "execution_count": 37,
   "id": "352b95f8",
   "metadata": {},
   "outputs": [
    {
     "data": {
      "text/plain": [
       "[[0, 1], [2, 3]]"
      ]
     },
     "execution_count": 37,
     "metadata": {},
     "output_type": "execute_result"
    }
   ],
   "source": [
    "koord"
   ]
  },
  {
   "cell_type": "code",
   "execution_count": 38,
   "id": "294b43f3",
   "metadata": {},
   "outputs": [
    {
     "data": {
      "text/plain": [
       "[0, 1]"
      ]
     },
     "execution_count": 38,
     "metadata": {},
     "output_type": "execute_result"
    }
   ],
   "source": [
    "koord[0]"
   ]
  },
  {
   "cell_type": "code",
   "execution_count": 39,
   "id": "7de50b68",
   "metadata": {},
   "outputs": [
    {
     "data": {
      "text/plain": [
       "0"
      ]
     },
     "execution_count": 39,
     "metadata": {},
     "output_type": "execute_result"
    }
   ],
   "source": [
    "koord[0][0]"
   ]
  },
  {
   "cell_type": "markdown",
   "id": "a28ffab4",
   "metadata": {},
   "source": [
    "## Dictionary"
   ]
  },
  {
   "cell_type": "code",
   "execution_count": 40,
   "id": "c0a7e2b9",
   "metadata": {},
   "outputs": [],
   "source": [
    "product = dict()"
   ]
  },
  {
   "cell_type": "code",
   "execution_count": 41,
   "id": "1278f412",
   "metadata": {},
   "outputs": [],
   "source": [
    "produk = {}"
   ]
  },
  {
   "cell_type": "code",
   "execution_count": 42,
   "id": "6b42dd9c",
   "metadata": {},
   "outputs": [],
   "source": [
    "product={'id':'001', 'name':'chocolate', 'price': 10000}"
   ]
  },
  {
   "cell_type": "code",
   "execution_count": 43,
   "id": "16dfe754",
   "metadata": {},
   "outputs": [
    {
     "data": {
      "text/plain": [
       "{'id': '001', 'name': 'chocolate', 'price': 10000}"
      ]
     },
     "execution_count": 43,
     "metadata": {},
     "output_type": "execute_result"
    }
   ],
   "source": [
    "product"
   ]
  },
  {
   "cell_type": "code",
   "execution_count": 46,
   "id": "10c7a82c",
   "metadata": {},
   "outputs": [
    {
     "data": {
      "text/plain": [
       "dict_keys(['id', 'name', 'price'])"
      ]
     },
     "execution_count": 46,
     "metadata": {},
     "output_type": "execute_result"
    }
   ],
   "source": [
    "product.keys()"
   ]
  },
  {
   "cell_type": "code",
   "execution_count": 48,
   "id": "c34a925c",
   "metadata": {},
   "outputs": [
    {
     "data": {
      "text/plain": [
       "'001'"
      ]
     },
     "execution_count": 48,
     "metadata": {},
     "output_type": "execute_result"
    }
   ],
   "source": [
    "product['id']"
   ]
  },
  {
   "cell_type": "code",
   "execution_count": 51,
   "id": "4a2fc74b",
   "metadata": {},
   "outputs": [],
   "source": [
    "coffee = dict()\n",
    "coffee['id'] = '002'\n",
    "coffee['name'] = 'coffee'\n",
    "coffee['price'] = 15000"
   ]
  },
  {
   "cell_type": "code",
   "execution_count": 52,
   "id": "d0356b62",
   "metadata": {},
   "outputs": [
    {
     "data": {
      "text/plain": [
       "{'id': '002', 'name': 'coffee', 'price': 15000}"
      ]
     },
     "execution_count": 52,
     "metadata": {},
     "output_type": "execute_result"
    }
   ],
   "source": [
    "coffee"
   ]
  },
  {
   "cell_type": "code",
   "execution_count": 55,
   "id": "aee7e502",
   "metadata": {},
   "outputs": [],
   "source": [
    "products = list()"
   ]
  },
  {
   "cell_type": "code",
   "execution_count": 56,
   "id": "2fd72eed",
   "metadata": {},
   "outputs": [],
   "source": [
    "products.append(product)\n",
    "products.append(coffee)"
   ]
  },
  {
   "cell_type": "code",
   "execution_count": 57,
   "id": "9c8a2cd3",
   "metadata": {},
   "outputs": [
    {
     "data": {
      "text/plain": [
       "[{'id': '001', 'name': 'chocolate', 'price': 10000},\n",
       " {'id': '002', 'name': 'coffee', 'price': 15000}]"
      ]
     },
     "execution_count": 57,
     "metadata": {},
     "output_type": "execute_result"
    }
   ],
   "source": [
    "products"
   ]
  },
  {
   "cell_type": "code",
   "execution_count": 58,
   "id": "e082d6e1",
   "metadata": {},
   "outputs": [
    {
     "data": {
      "text/plain": [
       "{'id': '001', 'name': 'chocolate', 'price': 10000}"
      ]
     },
     "execution_count": 58,
     "metadata": {},
     "output_type": "execute_result"
    }
   ],
   "source": [
    "products[0]"
   ]
  },
  {
   "cell_type": "code",
   "execution_count": 59,
   "id": "281123f8",
   "metadata": {},
   "outputs": [
    {
     "data": {
      "text/plain": [
       "'chocolate'"
      ]
     },
     "execution_count": 59,
     "metadata": {},
     "output_type": "execute_result"
    }
   ],
   "source": [
    "products[0]['name']"
   ]
  },
  {
   "cell_type": "code",
   "execution_count": 60,
   "id": "2dbf8b63",
   "metadata": {},
   "outputs": [
    {
     "name": "stdout",
     "output_type": "stream",
     "text": [
      "chocolate 10000\n",
      "coffee 15000\n"
     ]
    }
   ],
   "source": [
    "for item in products:\n",
    "    print(item['name'], item['price'])"
   ]
  },
  {
   "cell_type": "markdown",
   "id": "d44437d4",
   "metadata": {},
   "source": [
    "## Function"
   ]
  },
  {
   "cell_type": "code",
   "execution_count": 61,
   "id": "d49e050c",
   "metadata": {},
   "outputs": [],
   "source": [
    "def add(a, b):\n",
    "    return a + b"
   ]
  },
  {
   "cell_type": "code",
   "execution_count": 62,
   "id": "fd4b5d58",
   "metadata": {},
   "outputs": [
    {
     "data": {
      "text/plain": [
       "5"
      ]
     },
     "execution_count": 62,
     "metadata": {},
     "output_type": "execute_result"
    }
   ],
   "source": [
    "add(1, 4)"
   ]
  },
  {
   "cell_type": "code",
   "execution_count": 63,
   "id": "dc3663eb",
   "metadata": {},
   "outputs": [],
   "source": [
    "def multiply(a, b):\n",
    "    return a*b"
   ]
  },
  {
   "cell_type": "code",
   "execution_count": 64,
   "id": "02097ab5",
   "metadata": {},
   "outputs": [
    {
     "data": {
      "text/plain": [
       "24"
      ]
     },
     "execution_count": 64,
     "metadata": {},
     "output_type": "execute_result"
    }
   ],
   "source": [
    "multiply(3, 8)"
   ]
  },
  {
   "cell_type": "code",
   "execution_count": 65,
   "id": "7845d332",
   "metadata": {},
   "outputs": [],
   "source": [
    "import math"
   ]
  },
  {
   "cell_type": "code",
   "execution_count": 67,
   "id": "74136d48",
   "metadata": {},
   "outputs": [
    {
     "data": {
      "text/plain": [
       "2.302585092994046"
      ]
     },
     "execution_count": 67,
     "metadata": {},
     "output_type": "execute_result"
    }
   ],
   "source": [
    "math.log(10)"
   ]
  },
  {
   "cell_type": "code",
   "execution_count": 68,
   "id": "2c7466d3",
   "metadata": {},
   "outputs": [
    {
     "name": "stdout",
     "output_type": "stream",
     "text": [
      "['__doc__', '__loader__', '__name__', '__package__', '__spec__', 'acos', 'acosh', 'asin', 'asinh', 'atan', 'atan2', 'atanh', 'ceil', 'comb', 'copysign', 'cos', 'cosh', 'degrees', 'dist', 'e', 'erf', 'erfc', 'exp', 'expm1', 'fabs', 'factorial', 'floor', 'fmod', 'frexp', 'fsum', 'gamma', 'gcd', 'hypot', 'inf', 'isclose', 'isfinite', 'isinf', 'isnan', 'isqrt', 'lcm', 'ldexp', 'lgamma', 'log', 'log10', 'log1p', 'log2', 'modf', 'nan', 'nextafter', 'perm', 'pi', 'pow', 'prod', 'radians', 'remainder', 'sin', 'sinh', 'sqrt', 'tan', 'tanh', 'tau', 'trunc', 'ulp']\n"
     ]
    }
   ],
   "source": [
    "print(dir(math))"
   ]
  },
  {
   "cell_type": "code",
   "execution_count": 71,
   "id": "3acb2969",
   "metadata": {},
   "outputs": [],
   "source": [
    "from math import sin, cos, pi"
   ]
  },
  {
   "cell_type": "code",
   "execution_count": 72,
   "id": "815b6f8d",
   "metadata": {},
   "outputs": [
    {
     "data": {
      "text/plain": [
       "1.0"
      ]
     },
     "execution_count": 72,
     "metadata": {},
     "output_type": "execute_result"
    }
   ],
   "source": [
    "cos(2*pi)"
   ]
  },
  {
   "cell_type": "markdown",
   "id": "56f06a83",
   "metadata": {},
   "source": [
    "## Object Oriented"
   ]
  },
  {
   "cell_type": "code",
   "execution_count": 73,
   "id": "7369871b",
   "metadata": {},
   "outputs": [],
   "source": [
    "class Parent:\n",
    "    def func(self):\n",
    "        print(\"this is parent\")"
   ]
  },
  {
   "cell_type": "code",
   "execution_count": 74,
   "id": "28f8160f",
   "metadata": {},
   "outputs": [],
   "source": [
    "class Child(Parent):\n",
    "    def func2(self):\n",
    "        print(\"this is child\")"
   ]
  },
  {
   "cell_type": "code",
   "execution_count": 76,
   "id": "f876d871",
   "metadata": {},
   "outputs": [],
   "source": [
    "child = Child()"
   ]
  },
  {
   "cell_type": "code",
   "execution_count": 77,
   "id": "011cbd79",
   "metadata": {},
   "outputs": [
    {
     "name": "stdout",
     "output_type": "stream",
     "text": [
      "this is parent\n"
     ]
    }
   ],
   "source": [
    "child.func()"
   ]
  },
  {
   "cell_type": "code",
   "execution_count": 78,
   "id": "8ffdb162",
   "metadata": {},
   "outputs": [
    {
     "name": "stdout",
     "output_type": "stream",
     "text": [
      "this is child\n"
     ]
    }
   ],
   "source": [
    "child.func2()"
   ]
  },
  {
   "cell_type": "markdown",
   "id": "9df3b243",
   "metadata": {},
   "source": [
    "# Package Library"
   ]
  },
  {
   "cell_type": "markdown",
   "id": "77e163b5",
   "metadata": {},
   "source": [
    "buat folder **my_lib**"
   ]
  },
  {
   "cell_type": "markdown",
   "id": "e87efad3",
   "metadata": {},
   "source": [
    "buat file dalam folder tersebut misal **calculator.py**"
   ]
  },
  {
   "cell_type": "code",
   "execution_count": 85,
   "id": "01048683",
   "metadata": {},
   "outputs": [],
   "source": [
    "!mkdir my_lib"
   ]
  },
  {
   "cell_type": "code",
   "execution_count": 86,
   "id": "24c7de77",
   "metadata": {},
   "outputs": [
    {
     "name": "stdout",
     "output_type": "stream",
     "text": [
      " Volume in drive D has no label.\n",
      " Volume Serial Number is CCD1-CD20\n",
      "\n",
      " Directory of D:\\notebook\n",
      "\n",
      "08/12/2021  14:42    <DIR>          .\n",
      "08/12/2021  14:42    <DIR>          ..\n",
      "08/12/2021  13:53    <DIR>          .ipynb_checkpoints\n",
      "08/12/2021  13:47             2.315 1. Hello Notebook.ipynb\n",
      "08/12/2021  13:40               757 2. Tes Tensorflow.ipynb\n",
      "08/12/2021  14:40            19.425 3. Basic Python.ipynb\n",
      "08/12/2021  13:28    <DIR>          image\n",
      "08/12/2021  14:42    <DIR>          my_lib\n",
      "               3 File(s)         22.497 bytes\n",
      "               5 Dir(s)  34.265.423.872 bytes free\n"
     ]
    }
   ],
   "source": [
    "!dir"
   ]
  },
  {
   "cell_type": "code",
   "execution_count": 88,
   "id": "c94c51d7",
   "metadata": {},
   "outputs": [],
   "source": [
    "from my_lib.calculator import Calculator"
   ]
  },
  {
   "cell_type": "code",
   "execution_count": 89,
   "id": "fe5110a6",
   "metadata": {},
   "outputs": [],
   "source": [
    "calculator = Calculator(7, 8)"
   ]
  },
  {
   "cell_type": "code",
   "execution_count": 94,
   "id": "2040ede7",
   "metadata": {},
   "outputs": [],
   "source": [
    "calculator.x = 5\n",
    "calculator.y = 6"
   ]
  },
  {
   "cell_type": "code",
   "execution_count": 97,
   "id": "5ba80810",
   "metadata": {},
   "outputs": [
    {
     "data": {
      "text/plain": [
       "0"
      ]
     },
     "execution_count": 97,
     "metadata": {},
     "output_type": "execute_result"
    }
   ],
   "source": [
    "calculator.z"
   ]
  },
  {
   "cell_type": "code",
   "execution_count": 98,
   "id": "44d53bb8",
   "metadata": {},
   "outputs": [],
   "source": [
    "calculator.multiply()"
   ]
  },
  {
   "cell_type": "code",
   "execution_count": 99,
   "id": "c175720e",
   "metadata": {},
   "outputs": [
    {
     "data": {
      "text/plain": [
       "30"
      ]
     },
     "execution_count": 99,
     "metadata": {},
     "output_type": "execute_result"
    }
   ],
   "source": [
    "calculator.z"
   ]
  },
  {
   "cell_type": "code",
   "execution_count": 100,
   "id": "d7769483",
   "metadata": {},
   "outputs": [],
   "source": [
    "calculator.add()"
   ]
  },
  {
   "cell_type": "code",
   "execution_count": 101,
   "id": "0ab3d786",
   "metadata": {},
   "outputs": [
    {
     "data": {
      "text/plain": [
       "15"
      ]
     },
     "execution_count": 101,
     "metadata": {},
     "output_type": "execute_result"
    }
   ],
   "source": [
    "calculator.c"
   ]
  },
  {
   "cell_type": "markdown",
   "id": "46954cd9",
   "metadata": {},
   "source": [
    "### *ARGS, **KWARGS"
   ]
  },
  {
   "cell_type": "code",
   "execution_count": 102,
   "id": "9288f5ee",
   "metadata": {},
   "outputs": [],
   "source": [
    "def print_nama(*args):\n",
    "    for nama in args:\n",
    "        print(nama)"
   ]
  },
  {
   "cell_type": "code",
   "execution_count": 103,
   "id": "fcfa22c5",
   "metadata": {},
   "outputs": [
    {
     "name": "stdout",
     "output_type": "stream",
     "text": [
      "Muhammad Hasannudin Yusa\n"
     ]
    }
   ],
   "source": [
    "print(\"Muhammad\", \"Hasannudin\", \"Yusa\")"
   ]
  },
  {
   "cell_type": "code",
   "execution_count": 104,
   "id": "09f74cec",
   "metadata": {},
   "outputs": [],
   "source": [
    "def print_karyawan(**kwargs):\n",
    "    print(kwargs['nama'])\n",
    "    print(kwargs['alamat'])    "
   ]
  },
  {
   "cell_type": "code",
   "execution_count": 105,
   "id": "4e137f8c",
   "metadata": {},
   "outputs": [
    {
     "name": "stdout",
     "output_type": "stream",
     "text": [
      "MHY\n",
      "Bogor\n"
     ]
    }
   ],
   "source": [
    "print_karyawan(nama='MHY', alamat='Bogor')"
   ]
  },
  {
   "cell_type": "code",
   "execution_count": null,
   "id": "684e45a8",
   "metadata": {},
   "outputs": [],
   "source": []
  }
 ],
 "metadata": {
  "kernelspec": {
   "display_name": "tf-deeplearning",
   "language": "python",
   "name": "tf-deeplearning"
  },
  "language_info": {
   "codemirror_mode": {
    "name": "ipython",
    "version": 3
   },
   "file_extension": ".py",
   "mimetype": "text/x-python",
   "name": "python",
   "nbconvert_exporter": "python",
   "pygments_lexer": "ipython3",
   "version": "3.9.7"
  }
 },
 "nbformat": 4,
 "nbformat_minor": 5
}
